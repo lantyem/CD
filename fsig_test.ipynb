{
 "cells": [
  {
   "cell_type": "code",
   "execution_count": 1,
   "metadata": {},
   "outputs": [
    {
     "name": "stdout",
     "output_type": "stream",
     "text": [
      "                                              ..-\n",
      "    PyKat develop         _                  '(\n",
      "                          \\`.|\\.__...-\"\"\"\"-_.\" )\n",
      "       ..+-----.._        /  ' `            .-'\n",
      "   . '            `:      7/* _/._\\    \\   (\n",
      "  (        '::;;+;;:      `-\"' =\" /,`\"\" `) /\n",
      "  L.        \\`:::a:f            c_/     n_'\n",
      "  ..`--...___`.  .    ,\n",
      "   `^-....____:   +.      www.gwoptics.org/pykat\n",
      "\n"
     ]
    }
   ],
   "source": [
    "import pykat\n",
    "from pykat import finesse\n",
    "from pykat.commands import *\n",
    "import matplotlib.pyplot as plt\n",
    "import numpy as np\n",
    "import pykat.ifo.aligo as aligo\n",
    "import pykat.ifo.aligo.plot as aplot\n",
    "import pandas as pd\n",
    "\n",
    "plt.rc('font', size= 10)\n",
    "plt.rc('axes', titlesize= 10)\n"
   ]
  },
  {
   "cell_type": "code",
   "execution_count": 20,
   "metadata": {},
   "outputs": [
    {
     "data": {
      "text/plain": [
       "0.0"
      ]
     },
     "execution_count": 20,
     "metadata": {},
     "output_type": "execute_result"
    }
   ],
   "source": [
    "# Finesse Solution\n",
    "basekat = finesse.kat()\n",
    "basekat.verbose=False\n",
    "basekat.parse(\n",
    "\"\"\"\n",
    "l laser 1 0 n0              # Laser 1W\n",
    "s s0 0.5 n0 nmodin          # Distance from the laser to the first mirror M1\n",
    "mod eo1 10M 0.3 3 pm nmodin nmodout\n",
    "s s1 0.5 nmodout n1\n",
    "pd1 pdh 10M -5 n1\n",
    "\n",
    "#Cavity:\n",
    "m M1 0.999999999999 0.000000000001 0 n1 n2            # Cavity mirror M1: R = 0.99, T = 0.01\n",
    "s s_cav 100 n2 n3           # Cavity Length: L =  0.1 m\n",
    "m M2 1 0 0 n3 n4            # Cavity mirror M2: R = 1, T = 0\n",
    "attr M2 Rc 500              # Radius of curvature of M2 = 0.5 m\n",
    "cav c1 M1 n2 M2 n3\n",
    "trace 2\n",
    "\n",
    "pd1 pow 10 0 n1*\n",
    "fsig sig1 laser amp 10 0 1\n",
    "noxaxis\n",
    "\"\"\"\n",
    ")\n",
    "\n",
    "basekat.maxtem = 3\n",
    "basekat.trace = 2\n",
    "o = basekat.run()\n",
    "# print (o.stdout)\n",
    "basekat.components['M1'].phi.value\n"
   ]
  },
  {
   "cell_type": "code",
   "execution_count": 14,
   "metadata": {},
   "outputs": [
    {
     "name": "stdout",
     "output_type": "stream",
     "text": [
      "0.999999999117266\n"
     ]
    }
   ],
   "source": [
    "print (o['pow'])"
   ]
  }
 ],
 "metadata": {
  "kernelspec": {
   "display_name": "Python 3",
   "language": "python",
   "name": "python3"
  },
  "language_info": {
   "codemirror_mode": {
    "name": "ipython",
    "version": 3
   },
   "file_extension": ".py",
   "mimetype": "text/x-python",
   "name": "python",
   "nbconvert_exporter": "python",
   "pygments_lexer": "ipython3",
   "version": "3.7.4"
  }
 },
 "nbformat": 4,
 "nbformat_minor": 2
}
