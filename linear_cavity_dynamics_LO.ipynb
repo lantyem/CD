{
 "cells": [
  {
   "cell_type": "markdown",
   "metadata": {},
   "source": [
    "<h2> Two Mirror Cavity Dynamics</h2>\n",
    "This notebook tests the ability of finesse to compute the eigenmode change of a linear cavity as a result of an optic being pitched or yawed."
   ]
  },
  {
   "cell_type": "code",
   "execution_count": 1,
   "metadata": {},
   "outputs": [
    {
     "name": "stdout",
     "output_type": "stream",
     "text": [
      "                                              ..-\n",
      "    PyKat 1.1.331         _                  '(\n",
      "                          \\`.|\\.__...-\"\"\"\"-_.\" )\n",
      "       ..+-----.._        /  ' `            .-'\n",
      "   . '            `:      7/* _/._\\    \\   (\n",
      "  (        '::;;+;;:      `-\"' =\" /,`\"\" `) /\n",
      "  L.        \\`:::a:f            c_/     n_'\n",
      "  ..`--...___`.  .    ,\n",
      "   `^-....____:   +.      www.gwoptics.org/pykat\n",
      "\n"
     ]
    }
   ],
   "source": [
    "import pykat\n",
    "from pykat import finesse\n",
    "from pykat.commands import *\n",
    "import matplotlib.pyplot as plt\n",
    "import numpy as np\n",
    "\n",
    "plt.rc('font', size= 20)\n",
    "plt.rc('axes', titlesize= 20)"
   ]
  },
  {
   "cell_type": "markdown",
   "metadata": {},
   "source": [
    "<h2> Analytical Solution </h2>\n",
    "Here we look at the expected translation of a cavity axis using geometrical arguments. All formulas and how they arise can be found in Siegman chapter 19. The index for each variable indicates which optic we are referring to."
   ]
  },
  {
   "cell_type": "code",
   "execution_count": 220,
   "metadata": {},
   "outputs": [
    {
     "name": "stdout",
     "output_type": "stream",
     "text": [
      "g1g2 = 0.8\n",
      "Results for analytical solutions:\n",
      "∆x1:  5.000000000000001e-07  m\n",
      "∆x2:  5.000000000000001e-07  m\n",
      "∆θ:  0.0  m\n"
     ]
    }
   ],
   "source": [
    "# Mirror Tilt:\n",
    "theta_1 = 0#1e-6                    # M1 tilt \n",
    "theta_2 = 1e-6                  # M2 tilt \n",
    "w0 = 260.26206750103e-6                     # Beam waist\n",
    "F = 625.17\n",
    "lam = 1064e-9\n",
    "\n",
    "# Cavity parameters:\n",
    "L = 0.1                        # Cavity Length\n",
    "RcM2 = 0.5                     # Radius of curvature of M2 mirror =0.5 m\n",
    "g1 = 1                         # g1 = 1 - L/RcM1 = 1 since RcM1 = infinity\n",
    "g2 = 1 - L/RcM2                # g2 for M2 mirror\n",
    "print('g1g2 =', g1*g2)         # Stability check\n",
    "\n",
    "# Resulant translation \n",
    "delta_x1 = (g2/(1-g1*g2))*L*theta_1 + (1/(1- g1*g2))*L*theta_2    # Displacement on M1\n",
    "delta_x2 = (1/(1-g1*g2))*L*theta_1 + (g1/(1-g1*g2))*L*theta_2     # Displacement on M2\n",
    "delta_theta = (delta_x2 - delta_x1)/L                             # Angular displacement of optical axis\n",
    "\n",
    "print('Results for analytical solutions:')\n",
    "print('∆x1: ', delta_x1, ' m')\n",
    "print('∆x2: ', delta_x2, ' m')\n",
    "print(r'∆θ: ', delta_theta, ' m')"
   ]
  },
  {
   "cell_type": "code",
   "execution_count": null,
   "metadata": {},
   "outputs": [],
   "source": []
  },
  {
   "cell_type": "markdown",
   "metadata": {},
   "source": [
    "<h2> Finesse Solution </h2>\n",
    "Now we use finesse to model the same cavity."
   ]
  },
  {
   "cell_type": "code",
   "execution_count": 258,
   "metadata": {},
   "outputs": [
    {
     "name": "stdout",
     "output_type": "stream",
     "text": [
      "4.987301100711592e-07 -4.470668607854657e-07\n"
     ]
    },
    {
     "data": {
      "image/png": "[encoded data removed]",
      "text/plain": [
       "<Figure size 432x288 with 1 Axes>"
      ]
     },
     "metadata": {
      "needs_background": "light"
     },
     "output_type": "display_data"
    }
   ],
   "source": [
    "# Finesse Solution\n",
    "base = finesse.kat()\n",
    "base.verbose=False\n",
    "base.parse(\n",
    "\"\"\"\n",
    "l laser 1 0 n0              # Laser 1W\n",
    "s s0 1 n0 n1                # Distance from the laser to the first mirror M1\n",
    "    \n",
    "#Cavity:\n",
    "m M1 0.99 0.01 0 n1 n2            # Cavity mirror M1: R = 0.99, T = 0.01\n",
    "s s_cav 0.1 n2 n3           # Cavity Length: L =  0.1 m\n",
    "m M2 1 0 0 n3 n4            # Cavity mirror M2: R = 1, T = 0\n",
    "attr M2 Rc 0.5              # Radius of curvature of M2 = 0.5 m\n",
    "cav cavity M1 n2 M2 n3      \n",
    "\"\"\"\n",
    ")\n",
    "\n",
    "base.maxtem = 3\n",
    "base.trace = 2\n",
    "\n",
    "# We need amplitude detectors for the HG00, HG01, and HG10 modes in order to measure translation\n",
    "kat = base.deepcopy()\n",
    "kat.noxaxis = True\n",
    "kat.parse(\n",
    "\"\"\"\n",
    "# Mirror Movement\n",
    "# attr M2 xbeta 1u\n",
    "\n",
    "# Detectors:\n",
    "\n",
    "pd pd00 n2\n",
    "ad det01refl 0 1 0 n1\n",
    "\n",
    "# y detectors\n",
    "ad d00m2 0 0 0 n3\n",
    "ad d00m1 0 0 0 n2\n",
    "ad d01m2 0 1 0 n3\n",
    "ad d01m1 0 1 0 n2\n",
    "\n",
    "# x detectors\n",
    "ad d10m2 1 0 0 n3\n",
    "ad d10m1 1 0 0 n2\n",
    "\n",
    "bp w0 x w0 n3\n",
    "    \n",
    "# Mirror tilt and axes\n",
    "xaxis M2 xbeta lin 0 1u 100\n",
    "\n",
    "yaxis re:im\n",
    "\"\"\")\n",
    "out = kat.run()\n",
    "\n",
    "w0 = out['w0'].real\n",
    "\n",
    "p00 = out['pd00'].real\n",
    "a00 = np.sqrt(p00)\n",
    "\n",
    "refl01 = out['det01refl']\n",
    "\n",
    "abs00m2 = abs(out['d00m2'])\n",
    "abs01m2 = abs(out['d01m2'])\n",
    "\n",
    "abs00m1 = abs(out['d00m1'])\n",
    "abs01m1 = abs(out['d01m1'])\n",
    "\n",
    "# print (a00-abs00m1-abs01m1) # power minus amplitude of modes\n",
    "\n",
    "re00m1 = out['d00m1'].real\n",
    "re01m1 = out['d01m1'].real\n",
    "re01m2 = out['d01m2'].real\n",
    "\n",
    "im00m1 = out['d00m1'].imag\n",
    "im01m1 = out['d01m1'].imag\n",
    "im01m2 = out['d01m2'].imag\n",
    "\n",
    "re00m1 = out['d00m1'].real\n",
    "re10m1 = out['d10m1'].real\n",
    "re10m2 = out['d10m2'].real\n",
    "\n",
    "im00m1 = out['d00m1'].imag\n",
    "im10m1 = out['d10m1'].imag\n",
    "im10m2 = out['d10m2'].imag\n",
    "\n",
    "\n",
    "\n",
    "atransm1_x = im10m1/a00*w0\n",
    "atransm2_x = im10m2/a00*w0\n",
    "\n",
    "\n",
    "\n",
    "# print (max(atransm1)/delta_x1)\n",
    "# print (delta_x2/max(atransm2))\n",
    "\n",
    "\n",
    "# out.plot(detectors = ['d01m1','d01m2'])\n",
    "\n",
    "# plt.figure()\n",
    "# plt.plot(out.x,abs00) # 00 mode amplitude\n",
    "# plt.figure()\n",
    "# plt.plot(out.x,abs01m2/abs00m2*w0) #01 mode delta\n",
    "# plt.plot(out.x,abs01m1/abs00m1*w0)\n",
    "\n",
    "\n",
    "plt.figure()\n",
    "plt.plot(out.x,atransm1_x, label='m1 delta')\n",
    "plt.plot(out.x,atransm2_x, label='m2 delta')\n",
    "# plt.plot(out.x,refl01.real, label = 'refl 01 real')\n",
    "# plt.plot(out.x,refl01.imag, label = 'refl 01 imag')\n",
    "plt.legend()\n",
    "\n",
    "print (max(atransm1_x),min(atransm2_x))"
   ]
  },
  {
   "cell_type": "code",
   "execution_count": null,
   "metadata": {},
   "outputs": [],
   "source": []
  },
  {
   "cell_type": "code",
   "execution_count": 40,
   "metadata": {},
   "outputs": [
    {
     "data": {
      "text/plain": [
       "['StartDateTime',\n",
       " '____FROZEN____',\n",
       " '__class__',\n",
       " '__contains__',\n",
       " '__delattr__',\n",
       " '__dict__',\n",
       " '__dir__',\n",
       " '__doc__',\n",
       " '__eq__',\n",
       " '__format__',\n",
       " '__ge__',\n",
       " '__getattribute__',\n",
       " '__getitem__',\n",
       " '__gt__',\n",
       " '__hash__',\n",
       " '__init__',\n",
       " '__init_subclass__',\n",
       " '__le__',\n",
       " '__lt__',\n",
       " '__module__',\n",
       " '__ne__',\n",
       " '__new__',\n",
       " '__reduce__',\n",
       " '__reduce_ex__',\n",
       " '__repr__',\n",
       " '__setattr__',\n",
       " '__sizeof__',\n",
       " '__str__',\n",
       " '__subclasshook__',\n",
       " '__weakref__',\n",
       " '_freeze',\n",
       " '_unfreeze',\n",
       " 'get',\n",
       " 'info',\n",
       " 'katScript',\n",
       " 'katVersion',\n",
       " 'loadKatRun',\n",
       " 'plot',\n",
       " 'runDateTime',\n",
       " 'runtime',\n",
       " 'saveKatRun',\n",
       " 'stderr',\n",
       " 'stdout',\n",
       " 'x',\n",
       " 'xlabel',\n",
       " 'y',\n",
       " 'yaxis',\n",
       " 'ylabels']"
      ]
     },
     "execution_count": 40,
     "metadata": {},
     "output_type": "execute_result"
    }
   ],
   "source": [
    "dir(out)"
   ]
  },
  {
   "cell_type": "code",
   "execution_count": 268,
   "metadata": {},
   "outputs": [
    {
     "name": "stdout",
     "output_type": "stream",
     "text": [
      "0.00625\n",
      "0.7999999999999999\n",
      "0.02\n",
      "2.5\n"
     ]
    }
   ],
   "source": [
    "print (.1*(.5)**4)\n",
    "print (5e-3/.00625)\n",
    "#input power  40W\n",
    "print (.8/40)\n",
    "print (0.02*125)\n",
    "#look at LLO ham1"
   ]
  },
  {
   "cell_type": "code",
   "execution_count": null,
   "metadata": {},
   "outputs": [],
   "source": []
  }
 ],
 "metadata": {
  "kernelspec": {
   "display_name": "Python 3",
   "language": "python",
   "name": "python3"
  },
  "language_info": {
   "codemirror_mode": {
    "name": "ipython",
    "version": 3
   },
   "file_extension": ".py",
   "mimetype": "text/x-python",
   "name": "python",
   "nbconvert_exporter": "python",
   "pygments_lexer": "ipython3",
   "version": "3.7.4"
  }
 },
 "nbformat": 4,
 "nbformat_minor": 2
}
